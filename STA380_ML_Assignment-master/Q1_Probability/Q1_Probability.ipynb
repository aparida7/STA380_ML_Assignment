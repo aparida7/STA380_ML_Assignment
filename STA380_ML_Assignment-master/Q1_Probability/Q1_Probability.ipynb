{
 "cells": [
  {
   "cell_type": "markdown",
   "id": "fbc5c553",
   "metadata": {},
   "source": [
    "**STA 380 Part 2 Exam**"
   ]
  },
  {
   "cell_type": "markdown",
   "id": "35c233f1",
   "metadata": {},
   "source": [
    "Group Members : Sankalp Kulkarni, Anmol Agarwal, Srishty Mishra, Aishwarya Parida"
   ]
  },
  {
   "cell_type": "markdown",
   "id": "ca7a4cee",
   "metadata": {},
   "source": [
    "Probability Practise\n",
    "\n",
    "**Part A.** Visitors to your website are asked to answer a single survey question before they get access to the content on the page. Among all of the users, there are two categories: Random Clicker (RC), and Truthful Clicker (TC). There are two possible answers to the survey: yes and no. Random clickers would click either one with equal probability. You are also giving the information that the expected fraction of random clickers is 0.3. After a trial period, you get the following survey results: 65% said Yes and 35% said No. What fraction of people who are truthful clickers answered yes? Hint: use the rule of total probability."
   ]
  },
  {
   "cell_type": "markdown",
   "id": "f90344b8",
   "metadata": {},
   "source": [
    "**What is given**\n",
    "\n",
    "Let us look at the given information first:\n",
    "\n",
    "1. P(Random Clicker) =0.3 and hence by definition \n",
    "   P(Truthful Clicker) = 0.7 as we only have these 2 types of clickers given in the context and hence they should add    upto 1\n",
    "2. Now, Random clicker will click on \"Yes\" and \"No\"with equal probabbility meaning \n",
    "   P(Random Clicker clicking on Yes) = P (Random Clicker clicking on No) = 0.5\n",
    "3. The end survey result : \n",
    "   P(Someone clicking on Yes) = 0.65 and\n",
    "   P(Someone clicking on No) = 0.35\n",
    "   "
   ]
  },
  {
   "cell_type": "markdown",
   "id": "1398a12e",
   "metadata": {},
   "source": [
    "**Converting it into usable probability form**\n",
    "\n",
    "1. Let us have P(Y|T) = Probability of truthful clickers and answering yes\n",
    "2. P(Y|R) = Proabbility of random clickers and answering yes = 0.5\n",
    "3. P(Y) = Probability of ansering yes = 0.65\n",
    "4. P(N) = Probability of answering no = 0.35\n",
    "5. P(T) = Proability that a person is a truthful clicker = 0.7\n",
    "6. P(R) = Probability that a person is a random clicker = 0.3"
   ]
  },
  {
   "cell_type": "markdown",
   "id": "897bf40b",
   "metadata": {},
   "source": [
    "**Rule of Total Probability**\n",
    "\n",
    "                                    P(A) = P (A|B)P(B) + P(A|B')P(B')\n",
    "                                    \n",
    " Where,\n",
    " \n",
    " P(B') = 1 - P(B)"
   ]
  },
  {
   "cell_type": "markdown",
   "id": "e0d16428",
   "metadata": {},
   "source": [
    "**Applying the rule of total probability in the given scenario**\n",
    "\n",
    "                                   P(Y) = P(Y|T) P(T) + P(Y|R) P(R)\n",
    "  \n",
    "  Putting the known values,\n",
    "                                   <br> 0.65 = P(Y|T) * 0.7 + (0.5)* (0.3)\n",
    "                                   <br> 0.65 = P(Y|T) * 0.7 + 0.15\n",
    "                                   <br> 0.65- 0.15 = P(Y|T) * 0.7\n",
    "                                   <br> 0.5 = P(Y|T) * 0.7\n",
    "                                   <br> P(Y|T) = 0.5/0.7\n",
    "                                   <br> P(Y|T) = 5/7\n",
    "                                   <br> P(Y|T) = 0.714\n",
    " \n",
    " Hence, **There are 71.4% of the people who are 'Truthful Clickers' and answered 'Yes'**"
   ]
  },
  {
   "cell_type": "markdown",
   "id": "8432b512",
   "metadata": {},
   "source": [
    "**Part B**. Imagine a medical test for a disease with the following two attributes:\n",
    "\n",
    "The sensitivity is about 0.993. That is, if someone has the disease, there is a probability of 0.993 that they will test positive.\n",
    "The specificity is about 0.9999. This means that if someone doesn't have the disease, there is probability of 0.9999 that they will test negative.\n",
    "In the general population, incidence of the disease is reasonably rare: about 0.0025% of all people have it (or 0.000025 as a decimal probability).\n",
    "Suppose someone tests positive. What is the probability that they have the disease?"
   ]
  },
  {
   "cell_type": "markdown",
   "id": "52352b44",
   "metadata": {},
   "source": [
    "Let us look at the give information first:\n",
    "    \n",
    "**Sensitivity** = 0.993  {Person has a disease and they test positive for the same}\n",
    "<br>**Specificity** = 0.9999 {Person does not have a disease and test negative}\n",
    "<br>**Probability of someone having the disease in general population** = 0.000025\n",
    "   \n"
   ]
  },
  {
   "cell_type": "markdown",
   "id": "2563113a",
   "metadata": {},
   "source": [
    "**Converting the given information into usable probability form**\n",
    "\n",
    "1. P(D)   = Probability of having disease = 0.000025\n",
    "2. P(D')  = Probability of not having disease = 1- P(D) = 0.999975\n",
    "3. P(T|D) = Probability of testing positive when person is having disease = 0.993\n",
    "4. P(T|D')= Probability of testing positive when person is not having disease = 1- 0.9999 = 0.0001"
   ]
  },
  {
   "cell_type": "markdown",
   "id": "709c013b",
   "metadata": {},
   "source": [
    "**What we want to do** : To calculate the probability that a person has disease when they have teste positive"
   ]
  },
  {
   "cell_type": "markdown",
   "id": "7d69b945",
   "metadata": {},
   "source": [
    "**Mathematically** we are going to solve the equation:\n",
    " <br> P(D|T)* P(T) = P(T|D) * P(D)\n",
    " \n",
    " <br> Out of above entities that we need to solve the above equation we have P(T|D) and P(D) but we do not have P(T) yet. \n",
    " <br> We need to calcualte it first\n",
    " <br> P(T) is nothing but probability of testing positive "
   ]
  },
  {
   "cell_type": "markdown",
   "id": "d3c354b0",
   "metadata": {},
   "source": [
    "**How to get P(T)? : We can use rule of total probability again here**\n",
    "\n",
    "<br>    P(T) = P(T|D) * P(D) + P(T|D') * P(D')\n",
    "<br> Using the above values, \n",
    "<br>    P(T) = (0.993) * (0.000025) + (0.00001) * (0.999975)\n",
    "<br>   P(T) ≈ 0.0001248"
   ]
  },
  {
   "cell_type": "markdown",
   "id": "b3f1bcdb",
   "metadata": {},
   "source": [
    "**Now re-visiting the original Bay's eqauation**\n",
    "\n",
    "P(D|T) * P(T) = P(T|D) * P(D)\n",
    "\n",
    "<br> Now, putting all the known values we get,\n",
    "<br> P(D|T) = (0.993) * (0.000025) / (0.0001248)\n",
    "<br> P(D|T) = 0.1988\n",
    "<br> **Probability of people who have the disease when they test positive is 19.88%**"
   ]
  }
 ],
 "metadata": {
  "kernelspec": {
   "display_name": "Python 3",
   "language": "python",
   "name": "python3"
  },
  "language_info": {
   "codemirror_mode": {
    "name": "ipython",
    "version": 3
   },
   "file_extension": ".py",
   "mimetype": "text/x-python",
   "name": "python",
   "nbconvert_exporter": "python",
   "pygments_lexer": "ipython3",
   "version": "3.8.8"
  }
 },
 "nbformat": 4,
 "nbformat_minor": 5
}
